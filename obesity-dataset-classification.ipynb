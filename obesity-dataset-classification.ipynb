{
 "cells": [
  {
   "cell_type": "code",
   "execution_count": 1,
   "id": "168b5e4f",
   "metadata": {
    "_cell_guid": "b1076dfc-b9ad-4769-8c92-a6c4dae69d19",
    "_uuid": "8f2839f25d086af736a60e9eeb907d3b93b6e0e5",
    "execution": {
     "iopub.execute_input": "2024-04-11T13:34:58.554860Z",
     "iopub.status.busy": "2024-04-11T13:34:58.554491Z",
     "iopub.status.idle": "2024-04-11T13:34:59.603287Z",
     "shell.execute_reply": "2024-04-11T13:34:59.602137Z"
    },
    "papermill": {
     "duration": 1.061515,
     "end_time": "2024-04-11T13:34:59.606182",
     "exception": false,
     "start_time": "2024-04-11T13:34:58.544667",
     "status": "completed"
    },
    "tags": []
   },
   "outputs": [
    {
     "name": "stdout",
     "output_type": "stream",
     "text": [
      "/kaggle/input/obesity-or-cvd-risk-classifyregressorcluster/ObesityDataSet.csv\n"
     ]
    }
   ],
   "source": [
    "# This Python 3 environment comes with many helpful analytics libraries installed\n",
    "# It is defined by the kaggle/python Docker image: https://github.com/kaggle/docker-python\n",
    "# For example, here's several helpful packages to load\n",
    "\n",
    "import numpy as np # linear algebra\n",
    "import pandas as pd # data processing, CSV file I/O (e.g. pd.read_csv)\n",
    "\n",
    "# Input data files are available in the read-only \"../input/\" directory\n",
    "# For example, running this (by clicking run or pressing Shift+Enter) will list all files under the input directory\n",
    "\n",
    "import os\n",
    "for dirname, _, filenames in os.walk('/kaggle/input'):\n",
    "    for filename in filenames:\n",
    "        print(os.path.join(dirname, filename))\n",
    "\n",
    "# You can write up to 20GB to the current directory (/kaggle/working/) that gets preserved as output when you create a version using \"Save & Run All\" \n",
    "# You can also write temporary files to /kaggle/temp/, but they won't be saved outside of the current session"
   ]
  },
  {
   "cell_type": "code",
   "execution_count": 2,
   "id": "adc09c18",
   "metadata": {
    "execution": {
     "iopub.execute_input": "2024-04-11T13:34:59.623790Z",
     "iopub.status.busy": "2024-04-11T13:34:59.622594Z",
     "iopub.status.idle": "2024-04-11T13:35:01.160939Z",
     "shell.execute_reply": "2024-04-11T13:35:01.159651Z"
    },
    "papermill": {
     "duration": 1.549708,
     "end_time": "2024-04-11T13:35:01.163655",
     "exception": false,
     "start_time": "2024-04-11T13:34:59.613947",
     "status": "completed"
    },
    "tags": []
   },
   "outputs": [],
   "source": [
    "import pandas as pd\n",
    "import numpy as np\n",
    "import matplotlib.pyplot as plt\n",
    "%matplotlib inline\n",
    "import seaborn as sns"
   ]
  },
  {
   "cell_type": "code",
   "execution_count": 3,
   "id": "8b0f452c",
   "metadata": {
    "execution": {
     "iopub.execute_input": "2024-04-11T13:35:01.180579Z",
     "iopub.status.busy": "2024-04-11T13:35:01.180096Z",
     "iopub.status.idle": "2024-04-11T13:35:01.212031Z",
     "shell.execute_reply": "2024-04-11T13:35:01.211189Z"
    },
    "papermill": {
     "duration": 0.043323,
     "end_time": "2024-04-11T13:35:01.214692",
     "exception": false,
     "start_time": "2024-04-11T13:35:01.171369",
     "status": "completed"
    },
    "tags": []
   },
   "outputs": [],
   "source": [
    "data= pd.read_csv('/kaggle/input/obesity-or-cvd-risk-classifyregressorcluster/ObesityDataSet.csv')"
   ]
  },
  {
   "cell_type": "code",
   "execution_count": 4,
   "id": "b1dcdef8",
   "metadata": {
    "execution": {
     "iopub.execute_input": "2024-04-11T13:35:01.231934Z",
     "iopub.status.busy": "2024-04-11T13:35:01.230914Z",
     "iopub.status.idle": "2024-04-11T13:35:01.261227Z",
     "shell.execute_reply": "2024-04-11T13:35:01.260279Z"
    },
    "papermill": {
     "duration": 0.041257,
     "end_time": "2024-04-11T13:35:01.263553",
     "exception": false,
     "start_time": "2024-04-11T13:35:01.222296",
     "status": "completed"
    },
    "tags": []
   },
   "outputs": [
    {
     "data": {
      "text/html": [
       "<div>\n",
       "<style scoped>\n",
       "    .dataframe tbody tr th:only-of-type {\n",
       "        vertical-align: middle;\n",
       "    }\n",
       "\n",
       "    .dataframe tbody tr th {\n",
       "        vertical-align: top;\n",
       "    }\n",
       "\n",
       "    .dataframe thead th {\n",
       "        text-align: right;\n",
       "    }\n",
       "</style>\n",
       "<table border=\"1\" class=\"dataframe\">\n",
       "  <thead>\n",
       "    <tr style=\"text-align: right;\">\n",
       "      <th></th>\n",
       "      <th>Gender</th>\n",
       "      <th>Age</th>\n",
       "      <th>Height</th>\n",
       "      <th>Weight</th>\n",
       "      <th>family_history_with_overweight</th>\n",
       "      <th>FAVC</th>\n",
       "      <th>FCVC</th>\n",
       "      <th>NCP</th>\n",
       "      <th>CAEC</th>\n",
       "      <th>SMOKE</th>\n",
       "      <th>CH2O</th>\n",
       "      <th>SCC</th>\n",
       "      <th>FAF</th>\n",
       "      <th>TUE</th>\n",
       "      <th>CALC</th>\n",
       "      <th>MTRANS</th>\n",
       "      <th>NObeyesdad</th>\n",
       "    </tr>\n",
       "  </thead>\n",
       "  <tbody>\n",
       "    <tr>\n",
       "      <th>0</th>\n",
       "      <td>Female</td>\n",
       "      <td>21.0</td>\n",
       "      <td>1.62</td>\n",
       "      <td>64.0</td>\n",
       "      <td>yes</td>\n",
       "      <td>no</td>\n",
       "      <td>2.0</td>\n",
       "      <td>3.0</td>\n",
       "      <td>Sometimes</td>\n",
       "      <td>no</td>\n",
       "      <td>2.0</td>\n",
       "      <td>no</td>\n",
       "      <td>0.0</td>\n",
       "      <td>1.0</td>\n",
       "      <td>no</td>\n",
       "      <td>Public_Transportation</td>\n",
       "      <td>Normal_Weight</td>\n",
       "    </tr>\n",
       "    <tr>\n",
       "      <th>1</th>\n",
       "      <td>Female</td>\n",
       "      <td>21.0</td>\n",
       "      <td>1.52</td>\n",
       "      <td>56.0</td>\n",
       "      <td>yes</td>\n",
       "      <td>no</td>\n",
       "      <td>3.0</td>\n",
       "      <td>3.0</td>\n",
       "      <td>Sometimes</td>\n",
       "      <td>yes</td>\n",
       "      <td>3.0</td>\n",
       "      <td>yes</td>\n",
       "      <td>3.0</td>\n",
       "      <td>0.0</td>\n",
       "      <td>Sometimes</td>\n",
       "      <td>Public_Transportation</td>\n",
       "      <td>Normal_Weight</td>\n",
       "    </tr>\n",
       "    <tr>\n",
       "      <th>2</th>\n",
       "      <td>Male</td>\n",
       "      <td>23.0</td>\n",
       "      <td>1.80</td>\n",
       "      <td>77.0</td>\n",
       "      <td>yes</td>\n",
       "      <td>no</td>\n",
       "      <td>2.0</td>\n",
       "      <td>3.0</td>\n",
       "      <td>Sometimes</td>\n",
       "      <td>no</td>\n",
       "      <td>2.0</td>\n",
       "      <td>no</td>\n",
       "      <td>2.0</td>\n",
       "      <td>1.0</td>\n",
       "      <td>Frequently</td>\n",
       "      <td>Public_Transportation</td>\n",
       "      <td>Normal_Weight</td>\n",
       "    </tr>\n",
       "    <tr>\n",
       "      <th>3</th>\n",
       "      <td>Male</td>\n",
       "      <td>27.0</td>\n",
       "      <td>1.80</td>\n",
       "      <td>87.0</td>\n",
       "      <td>no</td>\n",
       "      <td>no</td>\n",
       "      <td>3.0</td>\n",
       "      <td>3.0</td>\n",
       "      <td>Sometimes</td>\n",
       "      <td>no</td>\n",
       "      <td>2.0</td>\n",
       "      <td>no</td>\n",
       "      <td>2.0</td>\n",
       "      <td>0.0</td>\n",
       "      <td>Frequently</td>\n",
       "      <td>Walking</td>\n",
       "      <td>Overweight_Level_I</td>\n",
       "    </tr>\n",
       "    <tr>\n",
       "      <th>4</th>\n",
       "      <td>Male</td>\n",
       "      <td>22.0</td>\n",
       "      <td>1.78</td>\n",
       "      <td>89.8</td>\n",
       "      <td>no</td>\n",
       "      <td>no</td>\n",
       "      <td>2.0</td>\n",
       "      <td>1.0</td>\n",
       "      <td>Sometimes</td>\n",
       "      <td>no</td>\n",
       "      <td>2.0</td>\n",
       "      <td>no</td>\n",
       "      <td>0.0</td>\n",
       "      <td>0.0</td>\n",
       "      <td>Sometimes</td>\n",
       "      <td>Public_Transportation</td>\n",
       "      <td>Overweight_Level_II</td>\n",
       "    </tr>\n",
       "  </tbody>\n",
       "</table>\n",
       "</div>"
      ],
      "text/plain": [
       "   Gender   Age  Height  Weight family_history_with_overweight FAVC  FCVC  \\\n",
       "0  Female  21.0    1.62    64.0                            yes   no   2.0   \n",
       "1  Female  21.0    1.52    56.0                            yes   no   3.0   \n",
       "2    Male  23.0    1.80    77.0                            yes   no   2.0   \n",
       "3    Male  27.0    1.80    87.0                             no   no   3.0   \n",
       "4    Male  22.0    1.78    89.8                             no   no   2.0   \n",
       "\n",
       "   NCP       CAEC SMOKE  CH2O  SCC  FAF  TUE        CALC  \\\n",
       "0  3.0  Sometimes    no   2.0   no  0.0  1.0          no   \n",
       "1  3.0  Sometimes   yes   3.0  yes  3.0  0.0   Sometimes   \n",
       "2  3.0  Sometimes    no   2.0   no  2.0  1.0  Frequently   \n",
       "3  3.0  Sometimes    no   2.0   no  2.0  0.0  Frequently   \n",
       "4  1.0  Sometimes    no   2.0   no  0.0  0.0   Sometimes   \n",
       "\n",
       "                  MTRANS           NObeyesdad  \n",
       "0  Public_Transportation        Normal_Weight  \n",
       "1  Public_Transportation        Normal_Weight  \n",
       "2  Public_Transportation        Normal_Weight  \n",
       "3                Walking   Overweight_Level_I  \n",
       "4  Public_Transportation  Overweight_Level_II  "
      ]
     },
     "execution_count": 4,
     "metadata": {},
     "output_type": "execute_result"
    }
   ],
   "source": [
    "data.head()"
   ]
  },
  {
   "cell_type": "code",
   "execution_count": 5,
   "id": "656cc073",
   "metadata": {
    "execution": {
     "iopub.execute_input": "2024-04-11T13:35:01.281739Z",
     "iopub.status.busy": "2024-04-11T13:35:01.281299Z",
     "iopub.status.idle": "2024-04-11T13:35:01.302176Z",
     "shell.execute_reply": "2024-04-11T13:35:01.301070Z"
    },
    "papermill": {
     "duration": 0.033458,
     "end_time": "2024-04-11T13:35:01.305139",
     "exception": false,
     "start_time": "2024-04-11T13:35:01.271681",
     "status": "completed"
    },
    "tags": []
   },
   "outputs": [
    {
     "data": {
      "text/html": [
       "<div>\n",
       "<style scoped>\n",
       "    .dataframe tbody tr th:only-of-type {\n",
       "        vertical-align: middle;\n",
       "    }\n",
       "\n",
       "    .dataframe tbody tr th {\n",
       "        vertical-align: top;\n",
       "    }\n",
       "\n",
       "    .dataframe thead th {\n",
       "        text-align: right;\n",
       "    }\n",
       "</style>\n",
       "<table border=\"1\" class=\"dataframe\">\n",
       "  <thead>\n",
       "    <tr style=\"text-align: right;\">\n",
       "      <th></th>\n",
       "      <th>Gender</th>\n",
       "      <th>Age</th>\n",
       "      <th>Height</th>\n",
       "      <th>Weight</th>\n",
       "      <th>family_history_with_overweight</th>\n",
       "      <th>FAVC</th>\n",
       "      <th>FCVC</th>\n",
       "      <th>NCP</th>\n",
       "      <th>CAEC</th>\n",
       "      <th>SMOKE</th>\n",
       "      <th>CH2O</th>\n",
       "      <th>SCC</th>\n",
       "      <th>FAF</th>\n",
       "      <th>TUE</th>\n",
       "      <th>CALC</th>\n",
       "      <th>MTRANS</th>\n",
       "      <th>NObeyesdad</th>\n",
       "    </tr>\n",
       "  </thead>\n",
       "  <tbody>\n",
       "    <tr>\n",
       "      <th>2106</th>\n",
       "      <td>Female</td>\n",
       "      <td>20.976842</td>\n",
       "      <td>1.710730</td>\n",
       "      <td>131.408528</td>\n",
       "      <td>yes</td>\n",
       "      <td>yes</td>\n",
       "      <td>3.0</td>\n",
       "      <td>3.0</td>\n",
       "      <td>Sometimes</td>\n",
       "      <td>no</td>\n",
       "      <td>1.728139</td>\n",
       "      <td>no</td>\n",
       "      <td>1.676269</td>\n",
       "      <td>0.906247</td>\n",
       "      <td>Sometimes</td>\n",
       "      <td>Public_Transportation</td>\n",
       "      <td>Obesity_Type_III</td>\n",
       "    </tr>\n",
       "    <tr>\n",
       "      <th>2107</th>\n",
       "      <td>Female</td>\n",
       "      <td>21.982942</td>\n",
       "      <td>1.748584</td>\n",
       "      <td>133.742943</td>\n",
       "      <td>yes</td>\n",
       "      <td>yes</td>\n",
       "      <td>3.0</td>\n",
       "      <td>3.0</td>\n",
       "      <td>Sometimes</td>\n",
       "      <td>no</td>\n",
       "      <td>2.005130</td>\n",
       "      <td>no</td>\n",
       "      <td>1.341390</td>\n",
       "      <td>0.599270</td>\n",
       "      <td>Sometimes</td>\n",
       "      <td>Public_Transportation</td>\n",
       "      <td>Obesity_Type_III</td>\n",
       "    </tr>\n",
       "    <tr>\n",
       "      <th>2108</th>\n",
       "      <td>Female</td>\n",
       "      <td>22.524036</td>\n",
       "      <td>1.752206</td>\n",
       "      <td>133.689352</td>\n",
       "      <td>yes</td>\n",
       "      <td>yes</td>\n",
       "      <td>3.0</td>\n",
       "      <td>3.0</td>\n",
       "      <td>Sometimes</td>\n",
       "      <td>no</td>\n",
       "      <td>2.054193</td>\n",
       "      <td>no</td>\n",
       "      <td>1.414209</td>\n",
       "      <td>0.646288</td>\n",
       "      <td>Sometimes</td>\n",
       "      <td>Public_Transportation</td>\n",
       "      <td>Obesity_Type_III</td>\n",
       "    </tr>\n",
       "    <tr>\n",
       "      <th>2109</th>\n",
       "      <td>Female</td>\n",
       "      <td>24.361936</td>\n",
       "      <td>1.739450</td>\n",
       "      <td>133.346641</td>\n",
       "      <td>yes</td>\n",
       "      <td>yes</td>\n",
       "      <td>3.0</td>\n",
       "      <td>3.0</td>\n",
       "      <td>Sometimes</td>\n",
       "      <td>no</td>\n",
       "      <td>2.852339</td>\n",
       "      <td>no</td>\n",
       "      <td>1.139107</td>\n",
       "      <td>0.586035</td>\n",
       "      <td>Sometimes</td>\n",
       "      <td>Public_Transportation</td>\n",
       "      <td>Obesity_Type_III</td>\n",
       "    </tr>\n",
       "    <tr>\n",
       "      <th>2110</th>\n",
       "      <td>Female</td>\n",
       "      <td>23.664709</td>\n",
       "      <td>1.738836</td>\n",
       "      <td>133.472641</td>\n",
       "      <td>yes</td>\n",
       "      <td>yes</td>\n",
       "      <td>3.0</td>\n",
       "      <td>3.0</td>\n",
       "      <td>Sometimes</td>\n",
       "      <td>no</td>\n",
       "      <td>2.863513</td>\n",
       "      <td>no</td>\n",
       "      <td>1.026452</td>\n",
       "      <td>0.714137</td>\n",
       "      <td>Sometimes</td>\n",
       "      <td>Public_Transportation</td>\n",
       "      <td>Obesity_Type_III</td>\n",
       "    </tr>\n",
       "  </tbody>\n",
       "</table>\n",
       "</div>"
      ],
      "text/plain": [
       "      Gender        Age    Height      Weight family_history_with_overweight  \\\n",
       "2106  Female  20.976842  1.710730  131.408528                            yes   \n",
       "2107  Female  21.982942  1.748584  133.742943                            yes   \n",
       "2108  Female  22.524036  1.752206  133.689352                            yes   \n",
       "2109  Female  24.361936  1.739450  133.346641                            yes   \n",
       "2110  Female  23.664709  1.738836  133.472641                            yes   \n",
       "\n",
       "     FAVC  FCVC  NCP       CAEC SMOKE      CH2O SCC       FAF       TUE  \\\n",
       "2106  yes   3.0  3.0  Sometimes    no  1.728139  no  1.676269  0.906247   \n",
       "2107  yes   3.0  3.0  Sometimes    no  2.005130  no  1.341390  0.599270   \n",
       "2108  yes   3.0  3.0  Sometimes    no  2.054193  no  1.414209  0.646288   \n",
       "2109  yes   3.0  3.0  Sometimes    no  2.852339  no  1.139107  0.586035   \n",
       "2110  yes   3.0  3.0  Sometimes    no  2.863513  no  1.026452  0.714137   \n",
       "\n",
       "           CALC                 MTRANS        NObeyesdad  \n",
       "2106  Sometimes  Public_Transportation  Obesity_Type_III  \n",
       "2107  Sometimes  Public_Transportation  Obesity_Type_III  \n",
       "2108  Sometimes  Public_Transportation  Obesity_Type_III  \n",
       "2109  Sometimes  Public_Transportation  Obesity_Type_III  \n",
       "2110  Sometimes  Public_Transportation  Obesity_Type_III  "
      ]
     },
     "execution_count": 5,
     "metadata": {},
     "output_type": "execute_result"
    }
   ],
   "source": [
    "data.tail()"
   ]
  },
  {
   "cell_type": "code",
   "execution_count": 6,
   "id": "dfb3d88e",
   "metadata": {
    "execution": {
     "iopub.execute_input": "2024-04-11T13:35:01.323491Z",
     "iopub.status.busy": "2024-04-11T13:35:01.322525Z",
     "iopub.status.idle": "2024-04-11T13:35:01.334394Z",
     "shell.execute_reply": "2024-04-11T13:35:01.333380Z"
    },
    "papermill": {
     "duration": 0.023826,
     "end_time": "2024-04-11T13:35:01.337033",
     "exception": false,
     "start_time": "2024-04-11T13:35:01.313207",
     "status": "completed"
    },
    "tags": []
   },
   "outputs": [
    {
     "data": {
      "text/plain": [
       "Gender                            0\n",
       "Age                               0\n",
       "Height                            0\n",
       "Weight                            0\n",
       "family_history_with_overweight    0\n",
       "FAVC                              0\n",
       "FCVC                              0\n",
       "NCP                               0\n",
       "CAEC                              0\n",
       "SMOKE                             0\n",
       "CH2O                              0\n",
       "SCC                               0\n",
       "FAF                               0\n",
       "TUE                               0\n",
       "CALC                              0\n",
       "MTRANS                            0\n",
       "NObeyesdad                        0\n",
       "dtype: int64"
      ]
     },
     "execution_count": 6,
     "metadata": {},
     "output_type": "execute_result"
    }
   ],
   "source": [
    "data.isnull().sum()"
   ]
  },
  {
   "cell_type": "code",
   "execution_count": 7,
   "id": "3b59e805",
   "metadata": {
    "execution": {
     "iopub.execute_input": "2024-04-11T13:35:01.357319Z",
     "iopub.status.busy": "2024-04-11T13:35:01.356913Z",
     "iopub.status.idle": "2024-04-11T13:35:01.378720Z",
     "shell.execute_reply": "2024-04-11T13:35:01.377472Z"
    },
    "papermill": {
     "duration": 0.034741,
     "end_time": "2024-04-11T13:35:01.382104",
     "exception": false,
     "start_time": "2024-04-11T13:35:01.347363",
     "status": "completed"
    },
    "tags": []
   },
   "outputs": [],
   "source": [
    "data=data.drop_duplicates()"
   ]
  },
  {
   "cell_type": "code",
   "execution_count": 8,
   "id": "8986cc65",
   "metadata": {
    "execution": {
     "iopub.execute_input": "2024-04-11T13:35:01.400462Z",
     "iopub.status.busy": "2024-04-11T13:35:01.400016Z",
     "iopub.status.idle": "2024-04-11T13:35:01.854962Z",
     "shell.execute_reply": "2024-04-11T13:35:01.853767Z"
    },
    "papermill": {
     "duration": 0.467111,
     "end_time": "2024-04-11T13:35:01.857619",
     "exception": false,
     "start_time": "2024-04-11T13:35:01.390508",
     "status": "completed"
    },
    "tags": []
   },
   "outputs": [
    {
     "data": {
      "text/plain": [
       "<Axes: >"
      ]
     },
     "execution_count": 8,
     "metadata": {},
     "output_type": "execute_result"
    },
    {
     "data": {
      "image/png": "[encoded data removed]",
      "text/plain": [
       "<Figure size 640x480 with 1 Axes>"
      ]
     },
     "metadata": {},
     "output_type": "display_data"
    }
   ],
   "source": [
    "import seaborn as sns\n",
    "\n",
    "sns.boxplot(data)"
   ]
  },
  {
   "cell_type": "code",
   "execution_count": 9,
   "id": "64d7311d",
   "metadata": {
    "execution": {
     "iopub.execute_input": "2024-04-11T13:35:01.877368Z",
     "iopub.status.busy": "2024-04-11T13:35:01.876968Z",
     "iopub.status.idle": "2024-04-11T13:35:01.883495Z",
     "shell.execute_reply": "2024-04-11T13:35:01.882204Z"
    },
    "papermill": {
     "duration": 0.019443,
     "end_time": "2024-04-11T13:35:01.886061",
     "exception": false,
     "start_time": "2024-04-11T13:35:01.866618",
     "status": "completed"
    },
    "tags": []
   },
   "outputs": [],
   "source": [
    "data['Age'] = data['Age'].astype(int)"
   ]
  },
  {
   "cell_type": "code",
   "execution_count": null,
   "id": "481159fb",
   "metadata": {
    "papermill": {
     "duration": 0.00829,
     "end_time": "2024-04-11T13:35:01.902984",
     "exception": false,
     "start_time": "2024-04-11T13:35:01.894694",
     "status": "completed"
    },
    "tags": []
   },
   "outputs": [],
   "source": []
  },
  {
   "cell_type": "code",
   "execution_count": 10,
   "id": "87a7cf68",
   "metadata": {
    "execution": {
     "iopub.execute_input": "2024-04-11T13:35:01.922564Z",
     "iopub.status.busy": "2024-04-11T13:35:01.921857Z",
     "iopub.status.idle": "2024-04-11T13:35:01.930137Z",
     "shell.execute_reply": "2024-04-11T13:35:01.929051Z"
    },
    "papermill": {
     "duration": 0.021061,
     "end_time": "2024-04-11T13:35:01.932635",
     "exception": false,
     "start_time": "2024-04-11T13:35:01.911574",
     "status": "completed"
    },
    "tags": []
   },
   "outputs": [
    {
     "data": {
      "text/plain": [
       "Gender                             object\n",
       "Age                                 int64\n",
       "Height                            float64\n",
       "Weight                            float64\n",
       "family_history_with_overweight     object\n",
       "FAVC                               object\n",
       "FCVC                              float64\n",
       "NCP                               float64\n",
       "CAEC                               object\n",
       "SMOKE                              object\n",
       "CH2O                              float64\n",
       "SCC                                object\n",
       "FAF                               float64\n",
       "TUE                               float64\n",
       "CALC                               object\n",
       "MTRANS                             object\n",
       "NObeyesdad                         object\n",
       "dtype: object"
      ]
     },
     "execution_count": 10,
     "metadata": {},
     "output_type": "execute_result"
    }
   ],
   "source": [
    "data.dtypes"
   ]
  },
  {
   "cell_type": "code",
   "execution_count": 11,
   "id": "e3cb3fb6",
   "metadata": {
    "execution": {
     "iopub.execute_input": "2024-04-11T13:35:01.952565Z",
     "iopub.status.busy": "2024-04-11T13:35:01.952181Z",
     "iopub.status.idle": "2024-04-11T13:35:01.958522Z",
     "shell.execute_reply": "2024-04-11T13:35:01.957307Z"
    },
    "papermill": {
     "duration": 0.019251,
     "end_time": "2024-04-11T13:35:01.960890",
     "exception": false,
     "start_time": "2024-04-11T13:35:01.941639",
     "status": "completed"
    },
    "tags": []
   },
   "outputs": [],
   "source": [
    "categorical_columns = data.select_dtypes(include=['object']).columns.tolist()"
   ]
  },
  {
   "cell_type": "code",
   "execution_count": 12,
   "id": "3af3e898",
   "metadata": {
    "execution": {
     "iopub.execute_input": "2024-04-11T13:35:01.980506Z",
     "iopub.status.busy": "2024-04-11T13:35:01.980079Z",
     "iopub.status.idle": "2024-04-11T13:35:02.179115Z",
     "shell.execute_reply": "2024-04-11T13:35:02.177582Z"
    },
    "papermill": {
     "duration": 0.212329,
     "end_time": "2024-04-11T13:35:02.182103",
     "exception": false,
     "start_time": "2024-04-11T13:35:01.969774",
     "status": "completed"
    },
    "tags": []
   },
   "outputs": [],
   "source": [
    "from sklearn.preprocessing import LabelEncoder"
   ]
  },
  {
   "cell_type": "code",
   "execution_count": 13,
   "id": "164cfec2",
   "metadata": {
    "execution": {
     "iopub.execute_input": "2024-04-11T13:35:02.201951Z",
     "iopub.status.busy": "2024-04-11T13:35:02.201540Z",
     "iopub.status.idle": "2024-04-11T13:35:02.205528Z",
     "shell.execute_reply": "2024-04-11T13:35:02.204710Z"
    },
    "papermill": {
     "duration": 0.016177,
     "end_time": "2024-04-11T13:35:02.207528",
     "exception": false,
     "start_time": "2024-04-11T13:35:02.191351",
     "status": "completed"
    },
    "tags": []
   },
   "outputs": [],
   "source": [
    "label_encoder = LabelEncoder()"
   ]
  },
  {
   "cell_type": "code",
   "execution_count": 14,
   "id": "9e5acd34",
   "metadata": {
    "execution": {
     "iopub.execute_input": "2024-04-11T13:35:02.228351Z",
     "iopub.status.busy": "2024-04-11T13:35:02.227687Z",
     "iopub.status.idle": "2024-04-11T13:35:02.241494Z",
     "shell.execute_reply": "2024-04-11T13:35:02.240568Z"
    },
    "papermill": {
     "duration": 0.026568,
     "end_time": "2024-04-11T13:35:02.244194",
     "exception": false,
     "start_time": "2024-04-11T13:35:02.217626",
     "status": "completed"
    },
    "tags": []
   },
   "outputs": [],
   "source": [
    "for col in categorical_columns:\n",
    "    data[col + '_encoded'] = label_encoder.fit_transform(data[col])"
   ]
  },
  {
   "cell_type": "code",
   "execution_count": 15,
   "id": "c2122150",
   "metadata": {
    "execution": {
     "iopub.execute_input": "2024-04-11T13:35:02.263978Z",
     "iopub.status.busy": "2024-04-11T13:35:02.263353Z",
     "iopub.status.idle": "2024-04-11T13:35:02.289591Z",
     "shell.execute_reply": "2024-04-11T13:35:02.288465Z"
    },
    "papermill": {
     "duration": 0.039517,
     "end_time": "2024-04-11T13:35:02.292473",
     "exception": false,
     "start_time": "2024-04-11T13:35:02.252956",
     "status": "completed"
    },
    "tags": []
   },
   "outputs": [
    {
     "data": {
      "text/html": [
       "<div>\n",
       "<style scoped>\n",
       "    .dataframe tbody tr th:only-of-type {\n",
       "        vertical-align: middle;\n",
       "    }\n",
       "\n",
       "    .dataframe tbody tr th {\n",
       "        vertical-align: top;\n",
       "    }\n",
       "\n",
       "    .dataframe thead th {\n",
       "        text-align: right;\n",
       "    }\n",
       "</style>\n",
       "<table border=\"1\" class=\"dataframe\">\n",
       "  <thead>\n",
       "    <tr style=\"text-align: right;\">\n",
       "      <th></th>\n",
       "      <th>Gender</th>\n",
       "      <th>Age</th>\n",
       "      <th>Height</th>\n",
       "      <th>Weight</th>\n",
       "      <th>family_history_with_overweight</th>\n",
       "      <th>FAVC</th>\n",
       "      <th>FCVC</th>\n",
       "      <th>NCP</th>\n",
       "      <th>CAEC</th>\n",
       "      <th>SMOKE</th>\n",
       "      <th>...</th>\n",
       "      <th>NObeyesdad</th>\n",
       "      <th>Gender_encoded</th>\n",
       "      <th>family_history_with_overweight_encoded</th>\n",
       "      <th>FAVC_encoded</th>\n",
       "      <th>CAEC_encoded</th>\n",
       "      <th>SMOKE_encoded</th>\n",
       "      <th>SCC_encoded</th>\n",
       "      <th>CALC_encoded</th>\n",
       "      <th>MTRANS_encoded</th>\n",
       "      <th>NObeyesdad_encoded</th>\n",
       "    </tr>\n",
       "  </thead>\n",
       "  <tbody>\n",
       "    <tr>\n",
       "      <th>0</th>\n",
       "      <td>Female</td>\n",
       "      <td>21</td>\n",
       "      <td>1.62</td>\n",
       "      <td>64.0</td>\n",
       "      <td>yes</td>\n",
       "      <td>no</td>\n",
       "      <td>2.0</td>\n",
       "      <td>3.0</td>\n",
       "      <td>Sometimes</td>\n",
       "      <td>no</td>\n",
       "      <td>...</td>\n",
       "      <td>Normal_Weight</td>\n",
       "      <td>0</td>\n",
       "      <td>1</td>\n",
       "      <td>0</td>\n",
       "      <td>2</td>\n",
       "      <td>0</td>\n",
       "      <td>0</td>\n",
       "      <td>3</td>\n",
       "      <td>3</td>\n",
       "      <td>1</td>\n",
       "    </tr>\n",
       "    <tr>\n",
       "      <th>1</th>\n",
       "      <td>Female</td>\n",
       "      <td>21</td>\n",
       "      <td>1.52</td>\n",
       "      <td>56.0</td>\n",
       "      <td>yes</td>\n",
       "      <td>no</td>\n",
       "      <td>3.0</td>\n",
       "      <td>3.0</td>\n",
       "      <td>Sometimes</td>\n",
       "      <td>yes</td>\n",
       "      <td>...</td>\n",
       "      <td>Normal_Weight</td>\n",
       "      <td>0</td>\n",
       "      <td>1</td>\n",
       "      <td>0</td>\n",
       "      <td>2</td>\n",
       "      <td>1</td>\n",
       "      <td>1</td>\n",
       "      <td>2</td>\n",
       "      <td>3</td>\n",
       "      <td>1</td>\n",
       "    </tr>\n",
       "    <tr>\n",
       "      <th>2</th>\n",
       "      <td>Male</td>\n",
       "      <td>23</td>\n",
       "      <td>1.80</td>\n",
       "      <td>77.0</td>\n",
       "      <td>yes</td>\n",
       "      <td>no</td>\n",
       "      <td>2.0</td>\n",
       "      <td>3.0</td>\n",
       "      <td>Sometimes</td>\n",
       "      <td>no</td>\n",
       "      <td>...</td>\n",
       "      <td>Normal_Weight</td>\n",
       "      <td>1</td>\n",
       "      <td>1</td>\n",
       "      <td>0</td>\n",
       "      <td>2</td>\n",
       "      <td>0</td>\n",
       "      <td>0</td>\n",
       "      <td>1</td>\n",
       "      <td>3</td>\n",
       "      <td>1</td>\n",
       "    </tr>\n",
       "    <tr>\n",
       "      <th>3</th>\n",
       "      <td>Male</td>\n",
       "      <td>27</td>\n",
       "      <td>1.80</td>\n",
       "      <td>87.0</td>\n",
       "      <td>no</td>\n",
       "      <td>no</td>\n",
       "      <td>3.0</td>\n",
       "      <td>3.0</td>\n",
       "      <td>Sometimes</td>\n",
       "      <td>no</td>\n",
       "      <td>...</td>\n",
       "      <td>Overweight_Level_I</td>\n",
       "      <td>1</td>\n",
       "      <td>0</td>\n",
       "      <td>0</td>\n",
       "      <td>2</td>\n",
       "      <td>0</td>\n",
       "      <td>0</td>\n",
       "      <td>1</td>\n",
       "      <td>4</td>\n",
       "      <td>5</td>\n",
       "    </tr>\n",
       "    <tr>\n",
       "      <th>4</th>\n",
       "      <td>Male</td>\n",
       "      <td>22</td>\n",
       "      <td>1.78</td>\n",
       "      <td>89.8</td>\n",
       "      <td>no</td>\n",
       "      <td>no</td>\n",
       "      <td>2.0</td>\n",
       "      <td>1.0</td>\n",
       "      <td>Sometimes</td>\n",
       "      <td>no</td>\n",
       "      <td>...</td>\n",
       "      <td>Overweight_Level_II</td>\n",
       "      <td>1</td>\n",
       "      <td>0</td>\n",
       "      <td>0</td>\n",
       "      <td>2</td>\n",
       "      <td>0</td>\n",
       "      <td>0</td>\n",
       "      <td>2</td>\n",
       "      <td>3</td>\n",
       "      <td>6</td>\n",
       "    </tr>\n",
       "  </tbody>\n",
       "</table>\n",
       "<p>5 rows × 26 columns</p>\n",
       "</div>"
      ],
      "text/plain": [
       "   Gender  Age  Height  Weight family_history_with_overweight FAVC  FCVC  NCP  \\\n",
       "0  Female   21    1.62    64.0                            yes   no   2.0  3.0   \n",
       "1  Female   21    1.52    56.0                            yes   no   3.0  3.0   \n",
       "2    Male   23    1.80    77.0                            yes   no   2.0  3.0   \n",
       "3    Male   27    1.80    87.0                             no   no   3.0  3.0   \n",
       "4    Male   22    1.78    89.8                             no   no   2.0  1.0   \n",
       "\n",
       "        CAEC SMOKE  ...           NObeyesdad Gender_encoded  \\\n",
       "0  Sometimes    no  ...        Normal_Weight              0   \n",
       "1  Sometimes   yes  ...        Normal_Weight              0   \n",
       "2  Sometimes    no  ...        Normal_Weight              1   \n",
       "3  Sometimes    no  ...   Overweight_Level_I              1   \n",
       "4  Sometimes    no  ...  Overweight_Level_II              1   \n",
       "\n",
       "   family_history_with_overweight_encoded  FAVC_encoded CAEC_encoded  \\\n",
       "0                                       1             0            2   \n",
       "1                                       1             0            2   \n",
       "2                                       1             0            2   \n",
       "3                                       0             0            2   \n",
       "4                                       0             0            2   \n",
       "\n",
       "  SMOKE_encoded SCC_encoded  CALC_encoded  MTRANS_encoded  NObeyesdad_encoded  \n",
       "0             0           0             3               3                   1  \n",
       "1             1           1             2               3                   1  \n",
       "2             0           0             1               3                   1  \n",
       "3             0           0             1               4                   5  \n",
       "4             0           0             2               3                   6  \n",
       "\n",
       "[5 rows x 26 columns]"
      ]
     },
     "execution_count": 15,
     "metadata": {},
     "output_type": "execute_result"
    }
   ],
   "source": [
    "data.head()"
   ]
  },
  {
   "cell_type": "code",
   "execution_count": 16,
   "id": "9f30e0bf",
   "metadata": {
    "execution": {
     "iopub.execute_input": "2024-04-11T13:35:02.314153Z",
     "iopub.status.busy": "2024-04-11T13:35:02.313179Z",
     "iopub.status.idle": "2024-04-11T13:35:02.319647Z",
     "shell.execute_reply": "2024-04-11T13:35:02.318763Z"
    },
    "papermill": {
     "duration": 0.02002,
     "end_time": "2024-04-11T13:35:02.322207",
     "exception": false,
     "start_time": "2024-04-11T13:35:02.302187",
     "status": "completed"
    },
    "tags": []
   },
   "outputs": [],
   "source": [
    "data = data.select_dtypes(exclude=['object'])"
   ]
  },
  {
   "cell_type": "code",
   "execution_count": 17,
   "id": "eaaf5dc7",
   "metadata": {
    "execution": {
     "iopub.execute_input": "2024-04-11T13:35:02.343841Z",
     "iopub.status.busy": "2024-04-11T13:35:02.343001Z",
     "iopub.status.idle": "2024-04-11T13:35:02.350638Z",
     "shell.execute_reply": "2024-04-11T13:35:02.349484Z"
    },
    "papermill": {
     "duration": 0.02089,
     "end_time": "2024-04-11T13:35:02.353154",
     "exception": false,
     "start_time": "2024-04-11T13:35:02.332264",
     "status": "completed"
    },
    "tags": []
   },
   "outputs": [
    {
     "data": {
      "text/plain": [
       "(2087, 17)"
      ]
     },
     "execution_count": 17,
     "metadata": {},
     "output_type": "execute_result"
    }
   ],
   "source": [
    "data.shape"
   ]
  },
  {
   "cell_type": "code",
   "execution_count": 18,
   "id": "00c113b4",
   "metadata": {
    "execution": {
     "iopub.execute_input": "2024-04-11T13:35:02.375304Z",
     "iopub.status.busy": "2024-04-11T13:35:02.374388Z",
     "iopub.status.idle": "2024-04-11T13:35:02.397845Z",
     "shell.execute_reply": "2024-04-11T13:35:02.396506Z"
    },
    "papermill": {
     "duration": 0.038251,
     "end_time": "2024-04-11T13:35:02.400583",
     "exception": false,
     "start_time": "2024-04-11T13:35:02.362332",
     "status": "completed"
    },
    "tags": []
   },
   "outputs": [
    {
     "data": {
      "text/html": [
       "<div>\n",
       "<style scoped>\n",
       "    .dataframe tbody tr th:only-of-type {\n",
       "        vertical-align: middle;\n",
       "    }\n",
       "\n",
       "    .dataframe tbody tr th {\n",
       "        vertical-align: top;\n",
       "    }\n",
       "\n",
       "    .dataframe thead th {\n",
       "        text-align: right;\n",
       "    }\n",
       "</style>\n",
       "<table border=\"1\" class=\"dataframe\">\n",
       "  <thead>\n",
       "    <tr style=\"text-align: right;\">\n",
       "      <th></th>\n",
       "      <th>Age</th>\n",
       "      <th>Height</th>\n",
       "      <th>Weight</th>\n",
       "      <th>FCVC</th>\n",
       "      <th>NCP</th>\n",
       "      <th>CH2O</th>\n",
       "      <th>FAF</th>\n",
       "      <th>TUE</th>\n",
       "      <th>Gender_encoded</th>\n",
       "      <th>family_history_with_overweight_encoded</th>\n",
       "      <th>FAVC_encoded</th>\n",
       "      <th>CAEC_encoded</th>\n",
       "      <th>SMOKE_encoded</th>\n",
       "      <th>SCC_encoded</th>\n",
       "      <th>CALC_encoded</th>\n",
       "      <th>MTRANS_encoded</th>\n",
       "      <th>NObeyesdad_encoded</th>\n",
       "    </tr>\n",
       "  </thead>\n",
       "  <tbody>\n",
       "    <tr>\n",
       "      <th>2106</th>\n",
       "      <td>20</td>\n",
       "      <td>1.710730</td>\n",
       "      <td>131.408528</td>\n",
       "      <td>3.0</td>\n",
       "      <td>3.0</td>\n",
       "      <td>1.728139</td>\n",
       "      <td>1.676269</td>\n",
       "      <td>0.906247</td>\n",
       "      <td>0</td>\n",
       "      <td>1</td>\n",
       "      <td>1</td>\n",
       "      <td>2</td>\n",
       "      <td>0</td>\n",
       "      <td>0</td>\n",
       "      <td>2</td>\n",
       "      <td>3</td>\n",
       "      <td>4</td>\n",
       "    </tr>\n",
       "    <tr>\n",
       "      <th>2107</th>\n",
       "      <td>21</td>\n",
       "      <td>1.748584</td>\n",
       "      <td>133.742943</td>\n",
       "      <td>3.0</td>\n",
       "      <td>3.0</td>\n",
       "      <td>2.005130</td>\n",
       "      <td>1.341390</td>\n",
       "      <td>0.599270</td>\n",
       "      <td>0</td>\n",
       "      <td>1</td>\n",
       "      <td>1</td>\n",
       "      <td>2</td>\n",
       "      <td>0</td>\n",
       "      <td>0</td>\n",
       "      <td>2</td>\n",
       "      <td>3</td>\n",
       "      <td>4</td>\n",
       "    </tr>\n",
       "    <tr>\n",
       "      <th>2108</th>\n",
       "      <td>22</td>\n",
       "      <td>1.752206</td>\n",
       "      <td>133.689352</td>\n",
       "      <td>3.0</td>\n",
       "      <td>3.0</td>\n",
       "      <td>2.054193</td>\n",
       "      <td>1.414209</td>\n",
       "      <td>0.646288</td>\n",
       "      <td>0</td>\n",
       "      <td>1</td>\n",
       "      <td>1</td>\n",
       "      <td>2</td>\n",
       "      <td>0</td>\n",
       "      <td>0</td>\n",
       "      <td>2</td>\n",
       "      <td>3</td>\n",
       "      <td>4</td>\n",
       "    </tr>\n",
       "    <tr>\n",
       "      <th>2109</th>\n",
       "      <td>24</td>\n",
       "      <td>1.739450</td>\n",
       "      <td>133.346641</td>\n",
       "      <td>3.0</td>\n",
       "      <td>3.0</td>\n",
       "      <td>2.852339</td>\n",
       "      <td>1.139107</td>\n",
       "      <td>0.586035</td>\n",
       "      <td>0</td>\n",
       "      <td>1</td>\n",
       "      <td>1</td>\n",
       "      <td>2</td>\n",
       "      <td>0</td>\n",
       "      <td>0</td>\n",
       "      <td>2</td>\n",
       "      <td>3</td>\n",
       "      <td>4</td>\n",
       "    </tr>\n",
       "    <tr>\n",
       "      <th>2110</th>\n",
       "      <td>23</td>\n",
       "      <td>1.738836</td>\n",
       "      <td>133.472641</td>\n",
       "      <td>3.0</td>\n",
       "      <td>3.0</td>\n",
       "      <td>2.863513</td>\n",
       "      <td>1.026452</td>\n",
       "      <td>0.714137</td>\n",
       "      <td>0</td>\n",
       "      <td>1</td>\n",
       "      <td>1</td>\n",
       "      <td>2</td>\n",
       "      <td>0</td>\n",
       "      <td>0</td>\n",
       "      <td>2</td>\n",
       "      <td>3</td>\n",
       "      <td>4</td>\n",
       "    </tr>\n",
       "  </tbody>\n",
       "</table>\n",
       "</div>"
      ],
      "text/plain": [
       "      Age    Height      Weight  FCVC  NCP      CH2O       FAF       TUE  \\\n",
       "2106   20  1.710730  131.408528   3.0  3.0  1.728139  1.676269  0.906247   \n",
       "2107   21  1.748584  133.742943   3.0  3.0  2.005130  1.341390  0.599270   \n",
       "2108   22  1.752206  133.689352   3.0  3.0  2.054193  1.414209  0.646288   \n",
       "2109   24  1.739450  133.346641   3.0  3.0  2.852339  1.139107  0.586035   \n",
       "2110   23  1.738836  133.472641   3.0  3.0  2.863513  1.026452  0.714137   \n",
       "\n",
       "      Gender_encoded  family_history_with_overweight_encoded  FAVC_encoded  \\\n",
       "2106               0                                       1             1   \n",
       "2107               0                                       1             1   \n",
       "2108               0                                       1             1   \n",
       "2109               0                                       1             1   \n",
       "2110               0                                       1             1   \n",
       "\n",
       "      CAEC_encoded  SMOKE_encoded  SCC_encoded  CALC_encoded  MTRANS_encoded  \\\n",
       "2106             2              0            0             2               3   \n",
       "2107             2              0            0             2               3   \n",
       "2108             2              0            0             2               3   \n",
       "2109             2              0            0             2               3   \n",
       "2110             2              0            0             2               3   \n",
       "\n",
       "      NObeyesdad_encoded  \n",
       "2106                   4  \n",
       "2107                   4  \n",
       "2108                   4  \n",
       "2109                   4  \n",
       "2110                   4  "
      ]
     },
     "execution_count": 18,
     "metadata": {},
     "output_type": "execute_result"
    }
   ],
   "source": [
    "data.tail()"
   ]
  },
  {
   "cell_type": "code",
   "execution_count": 19,
   "id": "6f16dbc4",
   "metadata": {
    "execution": {
     "iopub.execute_input": "2024-04-11T13:35:02.422789Z",
     "iopub.status.busy": "2024-04-11T13:35:02.422364Z",
     "iopub.status.idle": "2024-04-11T13:35:02.428797Z",
     "shell.execute_reply": "2024-04-11T13:35:02.427720Z"
    },
    "papermill": {
     "duration": 0.019879,
     "end_time": "2024-04-11T13:35:02.430977",
     "exception": false,
     "start_time": "2024-04-11T13:35:02.411098",
     "status": "completed"
    },
    "tags": []
   },
   "outputs": [],
   "source": [
    "X=data.drop(['NObeyesdad_encoded'],axis=1)\n",
    "y=data['NObeyesdad_encoded']"
   ]
  },
  {
   "cell_type": "code",
   "execution_count": 20,
   "id": "f8943b50",
   "metadata": {
    "execution": {
     "iopub.execute_input": "2024-04-11T13:35:02.452562Z",
     "iopub.status.busy": "2024-04-11T13:35:02.451847Z",
     "iopub.status.idle": "2024-04-11T13:35:02.462579Z",
     "shell.execute_reply": "2024-04-11T13:35:02.461573Z"
    },
    "papermill": {
     "duration": 0.024207,
     "end_time": "2024-04-11T13:35:02.465439",
     "exception": false,
     "start_time": "2024-04-11T13:35:02.441232",
     "status": "completed"
    },
    "tags": []
   },
   "outputs": [],
   "source": [
    "from sklearn.preprocessing import StandardScaler\n",
    "scaler = StandardScaler()\n",
    "X_scaled = scaler.fit_transform(X)"
   ]
  },
  {
   "cell_type": "code",
   "execution_count": 21,
   "id": "40962459",
   "metadata": {
    "execution": {
     "iopub.execute_input": "2024-04-11T13:35:02.487334Z",
     "iopub.status.busy": "2024-04-11T13:35:02.486591Z",
     "iopub.status.idle": "2024-04-11T13:35:02.623944Z",
     "shell.execute_reply": "2024-04-11T13:35:02.622747Z"
    },
    "papermill": {
     "duration": 0.151844,
     "end_time": "2024-04-11T13:35:02.626887",
     "exception": false,
     "start_time": "2024-04-11T13:35:02.475043",
     "status": "completed"
    },
    "tags": []
   },
   "outputs": [
    {
     "name": "stdout",
     "output_type": "stream",
     "text": [
      "      Age    Height      Weight  FCVC  NCP      CH2O       FAF       TUE  \\\n",
      "0      21  1.620000   64.000000   2.0  3.0  2.000000  0.000000  1.000000   \n",
      "1      21  1.520000   56.000000   3.0  3.0  3.000000  3.000000  0.000000   \n",
      "2      23  1.800000   77.000000   2.0  3.0  2.000000  2.000000  1.000000   \n",
      "3      27  1.800000   87.000000   3.0  3.0  2.000000  2.000000  0.000000   \n",
      "4      22  1.780000   89.800000   2.0  1.0  2.000000  0.000000  0.000000   \n",
      "...   ...       ...         ...   ...  ...       ...       ...       ...   \n",
      "2106   20  1.710730  131.408528   3.0  3.0  1.728139  1.676269  0.906247   \n",
      "2107   21  1.748584  133.742943   3.0  3.0  2.005130  1.341390  0.599270   \n",
      "2108   22  1.752206  133.689352   3.0  3.0  2.054193  1.414209  0.646288   \n",
      "2109   24  1.739450  133.346641   3.0  3.0  2.852339  1.139107  0.586035   \n",
      "2110   23  1.738836  133.472641   3.0  3.0  2.863513  1.026452  0.714137   \n",
      "\n",
      "      Gender_encoded  family_history_with_overweight_encoded  FAVC_encoded  \\\n",
      "0                  0                                       1             0   \n",
      "1                  0                                       1             0   \n",
      "2                  1                                       1             0   \n",
      "3                  1                                       0             0   \n",
      "4                  1                                       0             0   \n",
      "...              ...                                     ...           ...   \n",
      "2106               0                                       1             1   \n",
      "2107               0                                       1             1   \n",
      "2108               0                                       1             1   \n",
      "2109               0                                       1             1   \n",
      "2110               0                                       1             1   \n",
      "\n",
      "      CAEC_encoded  SMOKE_encoded  SCC_encoded  CALC_encoded  MTRANS_encoded  \n",
      "0                2              0            0             3               3  \n",
      "1                2              1            1             2               3  \n",
      "2                2              0            0             1               3  \n",
      "3                2              0            0             1               4  \n",
      "4                2              0            0             2               3  \n",
      "...            ...            ...          ...           ...             ...  \n",
      "2106             2              0            0             2               3  \n",
      "2107             2              0            0             2               3  \n",
      "2108             2              0            0             2               3  \n",
      "2109             2              0            0             2               3  \n",
      "2110             2              0            0             2               3  \n",
      "\n",
      "[2087 rows x 16 columns]\n"
     ]
    }
   ],
   "source": [
    "from sklearn.model_selection import train_test_split\n",
    "X_train,X_test,y_train,y_test=train_test_split(X,y,test_size=0.2,random_state=42)\n",
    "print(X)"
   ]
  },
  {
   "cell_type": "code",
   "execution_count": 22,
   "id": "7511d7bf",
   "metadata": {
    "execution": {
     "iopub.execute_input": "2024-04-11T13:35:02.647724Z",
     "iopub.status.busy": "2024-04-11T13:35:02.647315Z",
     "iopub.status.idle": "2024-04-11T13:35:02.850921Z",
     "shell.execute_reply": "2024-04-11T13:35:02.849730Z"
    },
    "papermill": {
     "duration": 0.217398,
     "end_time": "2024-04-11T13:35:02.853865",
     "exception": false,
     "start_time": "2024-04-11T13:35:02.636467",
     "status": "completed"
    },
    "tags": []
   },
   "outputs": [
    {
     "name": "stdout",
     "output_type": "stream",
     "text": [
      "0.6608747753145596\n",
      "0.645933014354067\n"
     ]
    },
    {
     "name": "stderr",
     "output_type": "stream",
     "text": [
      "/opt/conda/lib/python3.10/site-packages/sklearn/linear_model/_logistic.py:458: ConvergenceWarning: lbfgs failed to converge (status=1):\n",
      "STOP: TOTAL NO. of ITERATIONS REACHED LIMIT.\n",
      "\n",
      "Increase the number of iterations (max_iter) or scale the data as shown in:\n",
      "    https://scikit-learn.org/stable/modules/preprocessing.html\n",
      "Please also refer to the documentation for alternative solver options:\n",
      "    https://scikit-learn.org/stable/modules/linear_model.html#logistic-regression\n",
      "  n_iter_i = _check_optimize_result(\n"
     ]
    }
   ],
   "source": [
    "from sklearn.linear_model import LogisticRegression\n",
    "from sklearn.metrics import accuracy_score\n",
    "logic=LogisticRegression()\n",
    "logic.fit(X_train,y_train)\n",
    "y_train_predict=logic.predict(X_train)\n",
    "y_test_predict=logic.predict(X_test)\n",
    "training_accuracy=accuracy_score(y_train,y_train_predict)\n",
    "test_accuracy=accuracy_score(y_test,y_test_predict)\n",
    "print(training_accuracy)\n",
    "print(test_accuracy)"
   ]
  },
  {
   "cell_type": "code",
   "execution_count": 23,
   "id": "69b1599f",
   "metadata": {
    "execution": {
     "iopub.execute_input": "2024-04-11T13:35:02.875520Z",
     "iopub.status.busy": "2024-04-11T13:35:02.875125Z",
     "iopub.status.idle": "2024-04-11T13:35:02.880465Z",
     "shell.execute_reply": "2024-04-11T13:35:02.879194Z"
    },
    "papermill": {
     "duration": 0.019209,
     "end_time": "2024-04-11T13:35:02.883011",
     "exception": false,
     "start_time": "2024-04-11T13:35:02.863802",
     "status": "completed"
    },
    "tags": []
   },
   "outputs": [],
   "source": [
    "from sklearn.metrics import confusion_matrix,precision_score,recall_score,f1_score,roc_auc_score,accuracy_score"
   ]
  },
  {
   "cell_type": "code",
   "execution_count": 24,
   "id": "f2e34033",
   "metadata": {
    "execution": {
     "iopub.execute_input": "2024-04-11T13:35:02.905726Z",
     "iopub.status.busy": "2024-04-11T13:35:02.904603Z",
     "iopub.status.idle": "2024-04-11T13:35:03.539836Z",
     "shell.execute_reply": "2024-04-11T13:35:03.538709Z"
    },
    "papermill": {
     "duration": 0.649041,
     "end_time": "2024-04-11T13:35:03.542512",
     "exception": false,
     "start_time": "2024-04-11T13:35:02.893471",
     "status": "completed"
    },
    "tags": []
   },
   "outputs": [
    {
     "name": "stdout",
     "output_type": "stream",
     "text": [
      "0.5686039544637508\n",
      "0.5334928229665071\n"
     ]
    }
   ],
   "source": [
    "from sklearn.svm import SVC\n",
    "svc=SVC(probability=True)\n",
    "svc.fit(X_train,y_train)\n",
    "y_train_predict=svc.predict(X_train)\n",
    "y_test_predict=svc.predict(X_test)\n",
    "print(accuracy_score(y_train,y_train_predict))\n",
    "print(accuracy_score(y_test,y_test_predict))"
   ]
  },
  {
   "cell_type": "code",
   "execution_count": 25,
   "id": "d7155e68",
   "metadata": {
    "execution": {
     "iopub.execute_input": "2024-04-11T13:35:03.565420Z",
     "iopub.status.busy": "2024-04-11T13:35:03.564326Z",
     "iopub.status.idle": "2024-04-11T13:35:03.702395Z",
     "shell.execute_reply": "2024-04-11T13:35:03.700813Z"
    },
    "papermill": {
     "duration": 0.152439,
     "end_time": "2024-04-11T13:35:03.704978",
     "exception": false,
     "start_time": "2024-04-11T13:35:03.552539",
     "status": "completed"
    },
    "tags": []
   },
   "outputs": [
    {
     "name": "stdout",
     "output_type": "stream",
     "text": [
      "1.0\n",
      "0.9186602870813397\n"
     ]
    }
   ],
   "source": [
    "from sklearn.tree import DecisionTreeClassifier\n",
    "Des=DecisionTreeClassifier()\n",
    "Des.fit(X_train,y_train)\n",
    "y_train_predict=Des.predict(X_train)\n",
    "y_test_predict=Des.predict(X_test)\n",
    "print(accuracy_score(y_train,y_train_predict))\n",
    "print(accuracy_score(y_test,y_test_predict))"
   ]
  },
  {
   "cell_type": "code",
   "execution_count": 26,
   "id": "f8c4e51a",
   "metadata": {
    "execution": {
     "iopub.execute_input": "2024-04-11T13:35:03.727235Z",
     "iopub.status.busy": "2024-04-11T13:35:03.726859Z",
     "iopub.status.idle": "2024-04-11T13:35:04.277281Z",
     "shell.execute_reply": "2024-04-11T13:35:04.276031Z"
    },
    "papermill": {
     "duration": 0.566228,
     "end_time": "2024-04-11T13:35:04.281258",
     "exception": false,
     "start_time": "2024-04-11T13:35:03.715030",
     "status": "completed"
    },
    "tags": []
   },
   "outputs": [
    {
     "name": "stdout",
     "output_type": "stream",
     "text": [
      "1.0\n",
      "0.9665071770334929\n"
     ]
    }
   ],
   "source": [
    "from sklearn.ensemble import RandomForestClassifier\n",
    "Ran=RandomForestClassifier()\n",
    "Ran.fit(X_train,y_train)\n",
    "y_train_predict=Ran.predict(X_train)\n",
    "y_test_predict=Ran.predict(X_test)\n",
    "print(accuracy_score(y_train,y_train_predict))\n",
    "print(accuracy_score(y_test,y_test_predict))"
   ]
  },
  {
   "cell_type": "code",
   "execution_count": 27,
   "id": "35ebfb0b",
   "metadata": {
    "execution": {
     "iopub.execute_input": "2024-04-11T13:35:04.304909Z",
     "iopub.status.busy": "2024-04-11T13:35:04.303929Z",
     "iopub.status.idle": "2024-04-11T13:35:04.541427Z",
     "shell.execute_reply": "2024-04-11T13:35:04.539960Z"
    },
    "papermill": {
     "duration": 0.252353,
     "end_time": "2024-04-11T13:35:04.544546",
     "exception": false,
     "start_time": "2024-04-11T13:35:04.292193",
     "status": "completed"
    },
    "tags": []
   },
   "outputs": [
    {
     "name": "stdout",
     "output_type": "stream",
     "text": [
      "0.9352905931695626\n",
      "0.8755980861244019\n"
     ]
    }
   ],
   "source": [
    "from sklearn.neighbors import KNeighborsClassifier\n",
    "k=3\n",
    "knn=KNeighborsClassifier(n_neighbors=k)\n",
    "knn.fit(X_train,y_train)\n",
    "y_train_pred= knn.predict(X_train)\n",
    "y_test_pred=knn.predict(X_test)\n",
    "print(accuracy_score(y_train,y_train_pred))\n",
    "print(accuracy_score(y_test,y_test_pred))"
   ]
  },
  {
   "cell_type": "code",
   "execution_count": 28,
   "id": "8d47afa1",
   "metadata": {
    "execution": {
     "iopub.execute_input": "2024-04-11T13:35:04.577361Z",
     "iopub.status.busy": "2024-04-11T13:35:04.576810Z",
     "iopub.status.idle": "2024-04-11T13:35:04.757725Z",
     "shell.execute_reply": "2024-04-11T13:35:04.756479Z"
    },
    "papermill": {
     "duration": 0.202238,
     "end_time": "2024-04-11T13:35:04.760942",
     "exception": false,
     "start_time": "2024-04-11T13:35:04.558704",
     "status": "completed"
    },
    "tags": []
   },
   "outputs": [
    {
     "name": "stdout",
     "output_type": "stream",
     "text": [
      "0.908328340323547\n",
      "0.868421052631579\n"
     ]
    }
   ],
   "source": [
    "from sklearn.neighbors import KNeighborsClassifier\n",
    "k=3\n",
    "kd=KNeighborsClassifier(algorithm='kd_tree')\n",
    "kd.fit(X_train,y_train)\n",
    "y_train_pred= kd.predict(X_train)\n",
    "y_test_pred=kd.predict(X_test)\n",
    "print(accuracy_score(y_train,y_train_pred))\n",
    "print(accuracy_score(y_test,y_test_pred))"
   ]
  },
  {
   "cell_type": "code",
   "execution_count": 29,
   "id": "9f91d925",
   "metadata": {
    "execution": {
     "iopub.execute_input": "2024-04-11T13:35:04.785586Z",
     "iopub.status.busy": "2024-04-11T13:35:04.785185Z",
     "iopub.status.idle": "2024-04-11T13:35:05.239449Z",
     "shell.execute_reply": "2024-04-11T13:35:05.238145Z"
    },
    "papermill": {
     "duration": 0.469485,
     "end_time": "2024-04-11T13:35:05.242080",
     "exception": false,
     "start_time": "2024-04-11T13:35:04.772595",
     "status": "completed"
    },
    "tags": []
   },
   "outputs": [
    {
     "name": "stdout",
     "output_type": "stream",
     "text": [
      "Accuracy: 0.9665071770334929\n",
      "Classification Report:\n",
      "              precision    recall  f1-score   support\n",
      "\n",
      "           0       0.98      0.95      0.97        59\n",
      "           1       0.87      0.97      0.91        61\n",
      "           2       1.00      0.97      0.99        70\n",
      "           3       1.00      1.00      1.00        64\n",
      "           4       1.00      1.00      1.00        60\n",
      "           5       0.98      0.89      0.93        55\n",
      "           6       0.94      0.98      0.96        49\n",
      "\n",
      "    accuracy                           0.97       418\n",
      "   macro avg       0.97      0.97      0.97       418\n",
      "weighted avg       0.97      0.97      0.97       418\n",
      "\n"
     ]
    }
   ],
   "source": [
    "from sklearn.metrics import classification_report\n",
    "\n",
    "# Using Random Forest Classifier as an example\n",
    "rf_classifier = RandomForestClassifier(random_state=42)\n",
    "rf_classifier.fit(X_train, y_train)\n",
    "\n",
    "# Model Evaluation\n",
    "y_pred = rf_classifier.predict(X_test)\n",
    "accuracy = accuracy_score(y_test, y_pred)\n",
    "print(\"Accuracy:\", accuracy)\n",
    "print(\"Classification Report:\")\n",
    "print(classification_report(y_test, y_pred))"
   ]
  }
 ],
 "metadata": {
  "kaggle": {
   "accelerator": "none",
   "dataSources": [
    {
     "datasetId": 4030196,
     "sourceId": 7009925,
     "sourceType": "datasetVersion"
    }
   ],
   "dockerImageVersionId": 30684,
   "isGpuEnabled": false,
   "isInternetEnabled": true,
   "language": "python",
   "sourceType": "notebook"
  },
  "kernelspec": {
   "display_name": "Python 3",
   "language": "python",
   "name": "python3"
  },
  "language_info": {
   "codemirror_mode": {
    "name": "ipython",
    "version": 3
   },
   "file_extension": ".py",
   "mimetype": "text/x-python",
   "name": "python",
   "nbconvert_exporter": "python",
   "pygments_lexer": "ipython3",
   "version": "3.10.13"
  },
  "papermill": {
   "default_parameters": {},
   "duration": 10.527588,
   "end_time": "2024-04-11T13:35:05.975067",
   "environment_variables": {},
   "exception": null,
   "input_path": "__notebook__.ipynb",
   "output_path": "__notebook__.ipynb",
   "parameters": {},
   "start_time": "2024-04-11T13:34:55.447479",
   "version": "2.5.0"
  }
 },
 "nbformat": 4,
 "nbformat_minor": 5
}
