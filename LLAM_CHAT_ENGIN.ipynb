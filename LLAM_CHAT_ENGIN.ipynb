{
 "cells": [
  {
   "cell_type": "code",
   "execution_count": 1,
   "id": "58810350",
   "metadata": {},
   "outputs": [],
   "source": [
    "import os\n",
    "os.environ[\"OPENAI_API_KEY\"]=\" \""
   ]
  },
  {
   "cell_type": "code",
   "execution_count": 3,
   "id": "77b60e11",
   "metadata": {},
   "outputs": [],
   "source": [
    "f_path=\"C:\\\\Users\\\\muthy\\\\Downloads\\\\Data Science Interview Questions and Answers.pdf\""
   ]
  },
  {
   "cell_type": "code",
   "execution_count": 4,
   "id": "61c7ff83",
   "metadata": {},
   "outputs": [
    {
     "name": "stderr",
     "output_type": "stream",
     "text": [
      "C:\\Users\\muthy\\anaconda3\\Lib\\site-packages\\pandas\\core\\arrays\\masked.py:60: UserWarning: Pandas requires version '1.3.6' or newer of 'bottleneck' (version '1.3.5' currently installed).\n",
      "  from pandas.core import (\n"
     ]
    }
   ],
   "source": [
    "from llama_index.core import SimpleDirectoryReader"
   ]
  },
  {
   "cell_type": "code",
   "execution_count": 5,
   "id": "9e6c66d2",
   "metadata": {},
   "outputs": [],
   "source": [
    "reader=SimpleDirectoryReader(input_files=[f_path])"
   ]
  },
  {
   "cell_type": "code",
   "execution_count": 6,
   "id": "905df12c",
   "metadata": {},
   "outputs": [],
   "source": [
    "pdf_documents = reader.load_data()"
   ]
  },
  {
   "cell_type": "code",
   "execution_count": 7,
   "id": "30501bdf",
   "metadata": {},
   "outputs": [],
   "source": [
    "from llama_index.core  import VectorStoreIndex\n",
    "index = VectorStoreIndex.from_documents(pdf_documents)"
   ]
  },
  {
   "cell_type": "code",
   "execution_count": 10,
   "id": "a12a7cdd",
   "metadata": {},
   "outputs": [
    {
     "name": "stdout",
     "output_type": "stream",
     "text": [
      "Selection bias is a type of error that arises when the individuals or items being studied are not randomly selected, leading to a skewed sample that may not be representative of the population.\n"
     ]
    }
   ],
   "source": [
    "chat_engine = index.as_chat_engine()\n",
    "response = chat_engine.chat(\"what is selection of bias?\")\n",
    "print(response)"
   ]
  },
  {
   "cell_type": "code",
   "execution_count": 12,
   "id": "133681e6",
   "metadata": {},
   "outputs": [
    {
     "name": "stdout",
     "output_type": "stream",
     "text": [
      "Resampling is done to estimate the accuracy of sample statistics by using subsets of accessible data, to substitute labels on data points when performing significance tests, and to validate models by using random subsets through techniques like bootstrapping and cross-validation.\n"
     ]
    }
   ],
   "source": [
    "chat_engine = index.as_chat_engine()\n",
    "response = chat_engine.chat(\"why  re-sampling is done?\")\n",
    "print(response)"
   ]
  },
  {
   "cell_type": "code",
   "execution_count": null,
   "id": "53438309",
   "metadata": {},
   "outputs": [
    {
     "name": "stdout",
     "output_type": "stream",
     "text": [
      "what is selection bais\n",
      "Selection bias is a type of error that occurs when the selection of participants for a study is not random. It arises when the researcher decides who will be included in the study, leading to a non-representative sample that may skew the results.\n",
      "what is p-value?\n",
      "A p-value is a number between 0 and 1 that helps determine the strength of the results when performing a hypothesis test in statistics. A low p-value (≤ 0.05) indicates strength against the null hypothesis, allowing for rejection of the null hypothesis. Conversely, a high p-value (≥ 0.05) indicates strength for the null hypothesis, leading to acceptance of the null hypothesis. A p-value of 0.05 is considered marginal, suggesting that the hypothesis could swing either way.\n"
     ]
    }
   ],
   "source": [
    "chat_engine = index.as_chat_engine()\n",
    "while True:\n",
    "    a=input()\n",
    "    respones =chat_engine.chat(a)\n",
    "    print(respones)"
   ]
  },
  {
   "cell_type": "code",
   "execution_count": null,
   "id": "b89a1d6d",
   "metadata": {},
   "outputs": [],
   "source": []
  }
 ],
 "metadata": {
  "kernelspec": {
   "display_name": "Python 3 (ipykernel)",
   "language": "python",
   "name": "python3"
  },
  "language_info": {
   "codemirror_mode": {
    "name": "ipython",
    "version": 3
   },
   "file_extension": ".py",
   "mimetype": "text/x-python",
   "name": "python",
   "nbconvert_exporter": "python",
   "pygments_lexer": "ipython3",
   "version": "3.11.5"
  }
 },
 "nbformat": 4,
 "nbformat_minor": 5
}
